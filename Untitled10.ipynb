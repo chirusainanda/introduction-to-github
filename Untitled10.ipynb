{
  "nbformat": 4,
  "nbformat_minor": 0,
  "metadata": {
    "colab": {
      "provenance": [],
      "authorship_tag": "ABX9TyPi6Za5vIYfp5E4Nz2dkuoi",
      "include_colab_link": true
    },
    "kernelspec": {
      "name": "python3",
      "display_name": "Python 3"
    },
    "language_info": {
      "name": "python"
    }
  },
  "cells": [
    {
      "cell_type": "markdown",
      "metadata": {
        "id": "view-in-github",
        "colab_type": "text"
      },
      "source": [
        "<a href=\"https://colab.research.google.com/github/chirusainanda/introduction-to-github/blob/main/Untitled10.ipynb\" target=\"_parent\"><img src=\"https://colab.research.google.com/assets/colab-badge.svg\" alt=\"Open In Colab\"/></a>"
      ]
    },
    {
      "cell_type": "code",
      "source": [
        "!pip install qiskit qiskit-aer --quiet"
      ],
      "metadata": {
        "id": "UY51m9sTFTHW"
      },
      "execution_count": 18,
      "outputs": []
    },
    {
      "cell_type": "code",
      "source": [
        "from qiskit_aer import AerSimulator\n",
        "from qiskit.visualization import plot_histogram"
      ],
      "metadata": {
        "id": "L8R6Vb1XFnyz"
      },
      "execution_count": 11,
      "outputs": []
    },
    {
      "cell_type": "code",
      "source": [
        "from qiskit_aer import Aer"
      ],
      "metadata": {
        "id": "IjbhvevwIQsY"
      },
      "execution_count": 15,
      "outputs": []
    },
    {
      "cell_type": "code",
      "source": [
        "Aer.get_backend('aer_simulator')"
      ],
      "metadata": {
        "colab": {
          "base_uri": "https://localhost:8080/"
        },
        "id": "I_eUKe62IZOK",
        "outputId": "01d389bb-1159-4228-fb37-5599c8c87012"
      },
      "execution_count": 16,
      "outputs": [
        {
          "output_type": "execute_result",
          "data": {
            "text/plain": [
              "AerSimulator('aer_simulator')"
            ]
          },
          "metadata": {},
          "execution_count": 16
        }
      ]
    },
    {
      "cell_type": "code",
      "source": [
        "import numpy as np\n",
        "from qiskit import QuantumCircuit\n",
        "from qiskit_aer import Aer  # Import Aer explicitly\n",
        "\n",
        "def qft(n):\n",
        "    \"\"\"Creates a quantum circuit for the Quantum Fourier Transform on n qubits.\"\"\"\n",
        "    qc = QuantumCircuit(n, name=\"QFT\")\n",
        "    for i in range(n):\n",
        "        qc.h(i)\n",
        "        for j in range(i+1, n):\n",
        "            qc.cp(np.pi / 2**(j-i), j, i)\n",
        "    for i in range(n//2):\n",
        "        qc.swap(i, n-i-1)\n",
        "    return qc.to_instruction()\n",
        "\n",
        "def iqft(n):\n",
        "    \"\"\"Creates a quantum circuit for the Inverse Quantum Fourier Transform on n qubits.\"\"\"\n",
        "    qc = QuantumCircuit(n, name=\"IQFT\")\n",
        "    for i in range(n//2):\n",
        "        qc.swap(i, n-i-1)\n",
        "    for i in range(n-1, -1, -1):\n",
        "        for j in range(i+1, n):\n",
        "            qc.cp(-np.pi / 2**(j-i), j, i)\n",
        "        qc.h(i)\n",
        "    return qc.to_instruction()\n",
        "\n",
        "# Example: Testing QFT and IQFT on 3 qubits\n",
        "try:\n",
        "    num_qubits = 3\n",
        "    qft_gate = qft(num_qubits)\n",
        "    iqft_gate = iqft(num_qubits)\n",
        "\n",
        "    # Testing on simulator\n",
        "    simulator = Aer.get_backend('aer_simulator')  # Use Aer simulator\n",
        "    qc = QuantumCircuit(num_qubits)\n",
        "    qc.h(range(num_qubits))  # Apply Hadamard gates to prepare equal superposition\n",
        "    qc.append(qft_gate, range(num_qubits))  # Apply QFT\n",
        "    qc.append(iqft_gate, range(num_qubits))  # Apply IQFT\n",
        "\n",
        "    # Execute circuit\n",
        "    job = simulator.run(qc)\n",
        "    result = job.result()\n",
        "    statevector = result.get_statevector(qc, decimals=3)\n",
        "\n",
        "    print(\"Final statevector after QFT and IQFT:\")\n",
        "    print(statevector)\n",
        "    print(\"\\nReal amplitudes:\")\n",
        "    for i, amp in enumerate(statevector):\n",
        "        print(f\"|{bin(i)[2:].zfill(num_qubits)}⟩: {amp}\")\n",
        "\n",
        "except Exception as e:\n",
        "    print(f\"An error occurred: {str(e)}\")\n",
        "    print(\"Please ensure Qiskit and Aer are properly installed:\")\n",
        "    print(\"Run: pip install qiskit qiskit-aer\")"
      ],
      "metadata": {
        "colab": {
          "base_uri": "https://localhost:8080/"
        },
        "id": "Mhm-qbeoIjna",
        "outputId": "b8d6b2f1-4597-444e-82b3-a97364b0c9f4"
      },
      "execution_count": 17,
      "outputs": [
        {
          "output_type": "stream",
          "name": "stdout",
          "text": [
            "An error occurred: 'unknown instruction: QFT'\n",
            "Please ensure Qiskit and Aer are properly installed:\n",
            "Run: pip install qiskit qiskit-aer\n"
          ]
        }
      ]
    }
  ]
}